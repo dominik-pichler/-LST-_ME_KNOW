{
 "cells": [
  {
   "metadata": {},
   "cell_type": "code",
   "outputs": [],
   "execution_count": null,
   "source": [
    "#Tutorials \n",
    "#- https://ajay-arunachalam08.medium.com/an-illustration-of-next-word-prediction-with-state-of-the-art-network-architectures-like-bert-gpt-c0af02921f17"
   ],
   "id": "830d632e4e4cb869"
  },
  {
   "metadata": {},
   "cell_type": "code",
   "outputs": [],
   "execution_count": 23,
   "source": [
    "from transformers import GPT2LMHeadModel, GPT2Tokenizer, Trainer, TrainingArguments,PreTrainedModel,PreTrainedTokenizer\n",
    "from typing import Tuple\n",
    "from datasets import Dataset\n",
    "import random\n",
    "import torch\n",
    "from torch.utils.data import DataLoader\n",
    "\n",
    "batch_size = 32\n",
    "model_name = 'gpt2'\n",
    "model = GPT2LMHeadModel.from_pretrained(model_name)\n",
    "\n",
    "device = torch.device(\"cuda\" if torch.cuda.is_available() else \"mps\" if torch.backends.mps.is_available() else \"cpu\")\n",
    "model.to(device)\n",
    "\n",
    "tokenizer = GPT2Tokenizer.from_pretrained(model_name)\n",
    "tokenizer.pad_token = tokenizer.eos_token  # Example: Using eos_token for padding"
   ],
   "id": "70b814ad7b4bffc9"
  },
  {
   "metadata": {},
   "cell_type": "code",
   "outputs": [],
   "execution_count": null,
   "source": [
    "class textFileDataset(Dataset):\n",
    "    def __init__(self, filepath,transform=None):\n",
    "        \n",
    "         with open(path, 'r') as file:\n",
    "             file_content = file.read()\n",
    "        \n",
    "         sentences = [sentence.strip() for sentence in sentences]\n",
    "\n",
    "         # Create a DataFrame from the list of sentences\n",
    "         df = pd.DataFrame(sentences, columns=[\"sentence\"])  \n",
    "         self.text = file_content\n",
    "        "
   ],
   "id": "8ec5df88866b5010"
  },
  {
   "metadata": {
    "ExecuteTime": {
     "end_time": "2024-07-05T18:29:08.742560Z",
     "start_time": "2024-07-05T18:29:08.737002Z"
    }
   },
   "cell_type": "code",
   "source": [
    "## Load text\n",
    "def load_text(path:str) -> str:\n",
    "    with open(path, 'r') as file:\n",
    "        # Read the entire content of the file into a string\n",
    "        file_content = file.read()\n",
    "    return file_content\n",
    "\n",
    "\n",
    "def tokenize_function(examples):\n",
    "    return tokenizer(examples[\"text\"], padding=\"max_length\", truncation=True)\n",
    "\n",
    "\n",
    "def generate_datasets(text:str)-> Tuple[Dataset,Dataset]:\n",
    "    '''\n",
    "    Function to generate tokenized datasets for hugging face models.\n",
    "    \n",
    "    :param text: A single text corpus that should be used for the task.\n",
    "    :type text: str\n",
    "    :return: Two datasets, where the first is the train_dataset and the second is the test_dataset\n",
    "    :rtype: Tuple[Dataset,Dataset]\n",
    "    '''\n",
    "    \n",
    "    sentences = text.split('.')\n",
    "    random.shuffle(sentences)\n",
    "    split = int(0.9 * len(sentences))\n",
    "    train_sentences = sentences[:split]\n",
    "    val_sentences = sentences[split:]\n",
    "\n",
    "    train_dataset = Dataset.from_dict({\"text\": train_sentences})\n",
    "    val_dataset = Dataset.from_dict({\"text\": val_sentences})\n",
    "    \n",
    "    train_dataset = train_dataset.map(tokenize_function, batched=True, remove_columns=[\"text\"])\n",
    "    val_dataset = val_dataset.map(tokenize_function, batched=True, remove_columns=[\"text\"])\n",
    "    \n",
    "    train_dataloader = DataLoader(train_dataset, batch_size=batch_size, shuffle=True)\n",
    "\n",
    "\n",
    "\n",
    "    return train_dataset, val_dataset\n",
    "    "
   ],
   "id": "initial_id",
   "outputs": [],
   "execution_count": 21
  },
  {
   "metadata": {
    "ExecuteTime": {
     "end_time": "2024-07-05T18:21:44.979322Z",
     "start_time": "2024-07-05T18:21:44.976628Z"
    }
   },
   "cell_type": "code",
   "source": [
    "def fine_tune_model(model:PreTrainedModel,train_dataset:Dataset,val_dataset:Dataset) -> Tuple[PreTrainedModel,PreTrainedTokenizer]:\n",
    "    '''\n",
    "    Function to fine tune the pre-trained model on the given dataset\n",
    "\n",
    "    :param path: Path to the corpus with which the model should be fine-tuned  \n",
    "    :type path: String \n",
    "    :return: Tupel of pre-trained model and tokenizer\n",
    "    :rtype: Tupel[Model,Tokenizer]\n",
    "    '''    \n",
    "    \n",
    "    training_args = TrainingArguments(\n",
    "        output_dir=\"./results\",\n",
    "        evaluation_strategy=\"epoch\",\n",
    "        learning_rate=2e-5,\n",
    "        per_device_train_batch_size=2,\n",
    "        per_device_eval_batch_size=2,\n",
    "        num_train_epochs=3,\n",
    "        weight_decay=0.01,\n",
    "    ) \n",
    "    \n",
    "    ## Load Trainig data:         \n",
    "    trainer = Trainer(\n",
    "    model=model,\n",
    "    args=training_args,\n",
    "    train_dataset=train_dataset,\n",
    "    eval_dataset=val_dataset, \n",
    "    )\n",
    "    \n",
    "    trainer.train()\n",
    "    \n",
    "    model.save_pretrained(\"./fine-tuned-gpt2\")\n",
    "    tokenizer.save_pretrained(\"./fine-tuned-gpt2\")  \n",
    "    \n",
    "    return model, tokenizer\n"
   ],
   "id": "9b07839350a0bf9d",
   "outputs": [],
   "execution_count": 4
  },
  {
   "metadata": {
    "ExecuteTime": {
     "end_time": "2024-07-05T18:27:10.246428Z",
     "start_time": "2024-07-05T18:27:10.241634Z"
    }
   },
   "cell_type": "code",
   "source": [
    "import torch\n",
    "\n",
    "def predict_next_word(text, model, tokenizer, device, num_predictions=1):\n",
    "    # Tokenize input text\n",
    "    inputs = tokenizer.encode(text, return_tensors='pt').to(device)\n",
    "    \n",
    "    # Model inference\n",
    "    with torch.no_grad():\n",
    "        outputs = model(inputs)\n",
    "    \n",
    "    # Get logits and probabilities\n",
    "    logits = outputs.logits\n",
    "    last_token_logits = logits[:, -1, :]\n",
    "    probabilities = torch.softmax(last_token_logits, dim=-1)\n",
    "    \n",
    "    # Get top predicted indices\n",
    "    predicted_indices = torch.topk(probabilities, num_predictions).indices.squeeze(0).tolist()\n",
    "    \n",
    "    # Convert indices to tokens\n",
    "    predicted_tokens = [tokenizer.decode([index]) for index in predicted_indices]\n",
    "    \n",
    "    return predicted_tokens\n",
    "\n"
   ],
   "id": "e81f429b2d7908f9",
   "outputs": [],
   "execution_count": 14
  },
  {
   "metadata": {
    "ExecuteTime": {
     "end_time": "2024-07-05T18:29:12.407990Z",
     "start_time": "2024-07-05T18:29:11.407087Z"
    }
   },
   "cell_type": "code",
   "source": [
    "train_dataset,test_dataset = generate_datasets(load_text('../data/The_critique_of_pure_reason_short.txt'))\n",
    "\n",
    "text = 'But it was found that—although it was affirmed that this\\nso-called queen could not refer her descent to any higher source than\\nthat of common experience, a circumstance which necessarily brought\\nsuspicion on her claims—as this _genealogy_ was incorrect, she\\npersisted in the advancement of her claims to'\n",
    "model_test,tokenizer_test = fine_tune_model(model,train_dataset,test_dataset)\n",
    "pred = predict_next_word(text,model_test,tokenizer_test,device,3)\n",
    "print(pred)\n",
    " \n"
   ],
   "id": "ab1f3d9287aeb989",
   "outputs": [
    {
     "data": {
      "text/plain": [
       "Map:   0%|          | 0/11 [00:00<?, ? examples/s]"
      ],
      "application/vnd.jupyter.widget-view+json": {
       "version_major": 2,
       "version_minor": 0,
       "model_id": "12cc74fbfb794cdfbc4b6d4cdbce388f"
      }
     },
     "metadata": {},
     "output_type": "display_data"
    },
    {
     "data": {
      "text/plain": [
       "Map:   0%|          | 0/2 [00:00<?, ? examples/s]"
      ],
      "application/vnd.jupyter.widget-view+json": {
       "version_major": 2,
       "version_minor": 0,
       "model_id": "c0e9607542d44b0dbbcb13ddf7f530af"
      }
     },
     "metadata": {},
     "output_type": "display_data"
    },
    {
     "ename": "AttributeError",
     "evalue": "'Dataset' object has no attribute 'items'",
     "output_type": "error",
     "traceback": [
      "\u001B[0;31m---------------------------------------------------------------------------\u001B[0m",
      "\u001B[0;31mAttributeError\u001B[0m                            Traceback (most recent call last)",
      "Cell \u001B[0;32mIn[22], line 1\u001B[0m\n\u001B[0;32m----> 1\u001B[0m train_dataset,test_dataset \u001B[38;5;241m=\u001B[39m \u001B[43mgenerate_datasets\u001B[49m\u001B[43m(\u001B[49m\u001B[43mload_text\u001B[49m\u001B[43m(\u001B[49m\u001B[38;5;124;43m'\u001B[39;49m\u001B[38;5;124;43m../data/The_critique_of_pure_reason_short.txt\u001B[39;49m\u001B[38;5;124;43m'\u001B[39;49m\u001B[43m)\u001B[49m\u001B[43m)\u001B[49m\n\u001B[1;32m      3\u001B[0m text \u001B[38;5;241m=\u001B[39m \u001B[38;5;124m'\u001B[39m\u001B[38;5;124mBut it was found that—although it was affirmed that this\u001B[39m\u001B[38;5;130;01m\\n\u001B[39;00m\u001B[38;5;124mso-called queen could not refer her descent to any higher source than\u001B[39m\u001B[38;5;130;01m\\n\u001B[39;00m\u001B[38;5;124mthat of common experience, a circumstance which necessarily brought\u001B[39m\u001B[38;5;130;01m\\n\u001B[39;00m\u001B[38;5;124msuspicion on her claims—as this _genealogy_ was incorrect, she\u001B[39m\u001B[38;5;130;01m\\n\u001B[39;00m\u001B[38;5;124mpersisted in the advancement of her claims to\u001B[39m\u001B[38;5;124m'\u001B[39m\n\u001B[1;32m      4\u001B[0m model_test,tokenizer_test \u001B[38;5;241m=\u001B[39m fine_tune_model(model,train_dataset,test_dataset)\n",
      "Cell \u001B[0;32mIn[21], line 36\u001B[0m, in \u001B[0;36mgenerate_datasets\u001B[0;34m(text)\u001B[0m\n\u001B[1;32m     33\u001B[0m val_dataset \u001B[38;5;241m=\u001B[39m val_dataset\u001B[38;5;241m.\u001B[39mmap(tokenize_function, batched\u001B[38;5;241m=\u001B[39m\u001B[38;5;28;01mTrue\u001B[39;00m, remove_columns\u001B[38;5;241m=\u001B[39m[\u001B[38;5;124m\"\u001B[39m\u001B[38;5;124mtext\u001B[39m\u001B[38;5;124m\"\u001B[39m])\n\u001B[1;32m     35\u001B[0m \u001B[38;5;66;03m# Move tensors to device\u001B[39;00m\n\u001B[0;32m---> 36\u001B[0m train_dataset \u001B[38;5;241m=\u001B[39m {k: v\u001B[38;5;241m.\u001B[39mto(device) \u001B[38;5;28;01mfor\u001B[39;00m k, v \u001B[38;5;129;01min\u001B[39;00m \u001B[43mtrain_dataset\u001B[49m\u001B[38;5;241;43m.\u001B[39;49m\u001B[43mitems\u001B[49m()}\n\u001B[1;32m     37\u001B[0m val_dataset \u001B[38;5;241m=\u001B[39m {k: v\u001B[38;5;241m.\u001B[39mto(device) \u001B[38;5;28;01mfor\u001B[39;00m k, v \u001B[38;5;129;01min\u001B[39;00m val_dataset\u001B[38;5;241m.\u001B[39mitems()}\n\u001B[1;32m     39\u001B[0m \u001B[38;5;28;01mreturn\u001B[39;00m train_dataset, val_dataset\n",
      "\u001B[0;31mAttributeError\u001B[0m: 'Dataset' object has no attribute 'items'"
     ]
    }
   ],
   "execution_count": 22
  }
 ],
 "metadata": {
  "kernelspec": {
   "display_name": "Python 3",
   "language": "python",
   "name": "python3"
  },
  "language_info": {
   "codemirror_mode": {
    "name": "ipython",
    "version": 2
   },
   "file_extension": ".py",
   "mimetype": "text/x-python",
   "name": "python",
   "nbconvert_exporter": "python",
   "pygments_lexer": "ipython2",
   "version": "2.7.6"
  }
 },
 "nbformat": 4,
 "nbformat_minor": 5
}
